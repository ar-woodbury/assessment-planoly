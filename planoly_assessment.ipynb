{
 "cells": [
  {
   "cell_type": "markdown",
   "source": [
    "# Setup\n",
    "\n",
    "This Jupyter notebook uses the necessary Python packages to connect to a Redshift database and execute queries in .SQL files in the 'queries' directory. Each question in the assessment is listed with a print_query call to show the script to be run against the db. I present in this format as it would be easy for a colleague to  add their own sql files to the directory and quickly begin analyses without having to change much of the notebook.\n",
    "\n",
    "To run the queries and view the results requires some setup steps:\n",
    "- It is recommended to use a virtual environment, like venv\n",
    "- In your terminal, change working directory to the root of this repo and run 'pip install -r requirements.txt' to install dependencies\n",
    "- Execute the IMPORT block below\n",
    "- Execute the 3 METHODS blocks below; this includes the start_engine method to create the connection to the Redshift db"
   ],
   "metadata": {
    "collapsed": false
   }
  },
  {
   "cell_type": "markdown",
   "source": [
    "## Import"
   ],
   "metadata": {
    "collapsed": false
   }
  },
  {
   "cell_type": "code",
   "execution_count": null,
   "outputs": [],
   "source": [
    "import matplotlib.pyplot as plt\n",
    "import pandas as pd\n",
    "\n",
    "# SQLAlchemy is the ideal package for connecting to redshift RDMS as it is better supported by pandas; read, doesn't throw the 'unsupported' warning\n",
    "import sqlalchemy as sa\n",
    "from sqlalchemy.engine.url import URL\n",
    "from sqlalchemy import orm as sa_orm"
   ],
   "metadata": {
    "collapsed": false
   }
  },
  {
   "cell_type": "markdown",
   "source": [
    "## Methods"
   ],
   "metadata": {
    "collapsed": false
   }
  },
  {
   "cell_type": "code",
   "execution_count": null,
   "outputs": [],
   "source": [
    "# build the sqlalchemy URL\n",
    "def start_engine():\n",
    "    url = URL.create(\n",
    "    drivername='redshift+redshift_connector', # indicate redshift_connector driver and dialect will be used\n",
    "    host='', # Amazon Redshift host\n",
    "    port=5439, # Amazon Redshift port\n",
    "    database='', # Amazon Redshift database\n",
    "    username='', # Amazon Redshift username\n",
    "    password='' # Amazon Redshift password\n",
    "    )\n",
    "    engine = sa.create_engine(url)\n",
    "    Session = sa_orm.sessionmaker()\n",
    "    Session.configure(bind=engine)\n",
    "    return engine"
   ],
   "metadata": {
    "collapsed": false
   }
  },
  {
   "cell_type": "code",
   "execution_count": null,
   "outputs": [],
   "source": [
    "def print_query(file_path):\n",
    "    f = open(file_path, 'r')\n",
    "    file_contents = f.read()\n",
    "    print (file_contents)"
   ],
   "metadata": {
    "collapsed": false
   }
  },
  {
   "cell_type": "code",
   "execution_count": null,
   "outputs": [],
   "source": [
    "#\n",
    "def execute_query(file_path):\n",
    "    engine = sa.create_engine(url)\n",
    "    Session = sa_orm.sessionmaker()\n",
    "    Session.configure(bind=engine)\n",
    "\n",
    "    # Read SQL code from .sql file\n",
    "    with open(file_path, \"r\") as file:\n",
    "        sql = file.read()\n",
    "\n",
    "    # Execute SQL code and load results into a pandas dataframe\n",
    "    df = pd.read_sql(sql, engine)\n",
    "\n",
    "    # Close connection\n",
    "    engine.dispose()\n",
    "    return df"
   ],
   "metadata": {
    "collapsed": false
   }
  },
  {
   "cell_type": "markdown",
   "source": [
    "# Questions"
   ],
   "metadata": {
    "collapsed": false
   }
  },
  {
   "cell_type": "markdown",
   "source": [
    "### *Which are the top 10 account ids by number of users?*"
   ],
   "metadata": {
    "collapsed": false
   }
  },
  {
   "cell_type": "code",
   "execution_count": null,
   "outputs": [],
   "source": [
    "print_query('queries/top10.sql')"
   ],
   "metadata": {
    "collapsed": false
   }
  },
  {
   "cell_type": "code",
   "execution_count": null,
   "outputs": [],
   "source": [
    "execute_query('queries/top10.sql')"
   ],
   "metadata": {
    "collapsed": false
   }
  },
  {
   "cell_type": "markdown",
   "source": [
    "### *Create a summary table at the account level that signals when an account is new (boolean). An account is new for the first day we see it run a task(s).*"
   ],
   "metadata": {
    "collapsed": false
   }
  },
  {
   "cell_type": "code",
   "execution_count": null,
   "outputs": [],
   "source": [
    "print_query('queries/first_account.sql')"
   ],
   "metadata": {
    "collapsed": false
   }
  },
  {
   "cell_type": "code",
   "execution_count": null,
   "outputs": [],
   "source": [
    "create_table_new_accounts=execute_query('queries/new_accounts.sql')\n",
    "create_table_new_accounts"
   ],
   "metadata": {
    "collapsed": false
   }
  },
  {
   "cell_type": "markdown",
   "source": [
    "### *Add another column with the moving average of the tasks run in the last 7 days for each account.*"
   ],
   "metadata": {
    "collapsed": false
   }
  },
  {
   "cell_type": "code",
   "execution_count": null,
   "outputs": [],
   "source": [
    "print_query('queries/seven_day_avg.sql')"
   ],
   "metadata": {
    "collapsed": false
   }
  },
  {
   "cell_type": "code",
   "execution_count": null,
   "outputs": [],
   "source": [
    "seven_day_avg=execute_query('queries/seven_day_avg.sql')\n",
    "seven_day_avg"
   ],
   "metadata": {
    "collapsed": false
   }
  },
  {
   "cell_type": "markdown",
   "source": [],
   "metadata": {
    "collapsed": false
   }
  },
  {
   "cell_type": "markdown",
   "source": [
    "### *Create a summary table at the account level. Add a column with the % difference in the number of tasks to the previous day*"
   ],
   "metadata": {
    "collapsed": false
   }
  },
  {
   "cell_type": "code",
   "execution_count": null,
   "outputs": [],
   "source": [
    "print_query('queries/seven_day_avg_and_daily_pct_chg.sql')"
   ],
   "metadata": {
    "collapsed": false
   }
  },
  {
   "cell_type": "code",
   "execution_count": null,
   "outputs": [],
   "source": [
    "start_engine()\n",
    "pct_change=execute_query('queries/seven_day_avg_and_daily_pct_chg.sql')\n",
    "pct_change"
   ],
   "metadata": {
    "collapsed": false
   }
  },
  {
   "cell_type": "markdown",
   "source": [
    "### *A lost account is an account with no tasks run on a given month. How many accounts did we lose (had no executed tasks) in February 2017?*"
   ],
   "metadata": {
    "collapsed": false
   }
  },
  {
   "cell_type": "code",
   "execution_count": null,
   "outputs": [],
   "source": [
    "print_query('queries/lost_accts.sql')"
   ],
   "metadata": {
    "collapsed": false
   }
  },
  {
   "cell_type": "code",
   "execution_count": null,
   "outputs": [],
   "source": [
    "start_engine()\n",
    "lost_accounts=execute_query('queries/lost_accts.sql')\n",
    "lost_accounts"
   ],
   "metadata": {
    "collapsed": false
   }
  },
  {
   "cell_type": "markdown",
   "source": [
    "### *(OPTIONAL) Create a visualization that represents the growth of new accounts in a way you would communicate to a peer or business stakeholder*"
   ],
   "metadata": {
    "collapsed": false
   }
  },
  {
   "cell_type": "code",
   "execution_count": null,
   "outputs": [],
   "source": [
    "start_engine()\n",
    "\n",
    "# Fetch data for new accounts\n",
    "\n",
    "\n",
    "query = \"SELECT date, count(account_id) as new_accounts FROM first_account_tasks WHERE is_new = 't' GROUP BY date ORDER BY date\"\n",
    "new_accounts = pd.read_sql(query, engine)\n",
    "\n",
    "# Plot line chart of new accounts growth\n",
    "plt.plot(new_accounts['date'], new_accounts['new_accounts'], label='New Accounts')\n",
    "plt.xlabel('Date')\n",
    "plt.ylabel('Number of New Accounts')\n",
    "plt.title('New Accounts Over Time')\n",
    "plt.legend()\n",
    "plt.show()\n"
   ],
   "metadata": {
    "collapsed": false
   }
  },
  {
   "cell_type": "code",
   "execution_count": null,
   "outputs": [],
   "source": [],
   "metadata": {
    "collapsed": false
   }
  }
 ],
 "metadata": {
  "kernelspec": {
   "display_name": "Python 3",
   "language": "python",
   "name": "python3"
  },
  "language_info": {
   "codemirror_mode": {
    "name": "ipython",
    "version": 3
   },
   "file_extension": ".py",
   "mimetype": "text/x-python",
   "name": "python",
   "nbconvert_exporter": "python",
   "pygments_lexer": "ipython3",
   "version": "3.9.6"
  },
  "orig_nbformat": 4,
  "vscode": {
   "interpreter": {
    "hash": "31f2aee4e71d21fbe5cf8b01ff0e069b9275f58929596ceb00d14d90e3e16cd6"
   }
  }
 },
 "nbformat": 4,
 "nbformat_minor": 2
}
