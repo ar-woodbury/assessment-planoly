{
 "cells": [
  {
   "cell_type": "markdown",
   "source": [
    "# Setup\n",
    "\n",
    "This Jupyter notebook uses the necessary Python packages to connect to a Redshift database and execute queries in .SQL files in the 'queries' directory. Each question in the assessment is listed with a print_query call to show the script to be run against the db. I present in this format as it would be easy for a colleague to  add their own sql files to the directory and quickly begin analyses without having to change much of the notebook.\n",
    "\n",
    "To run the queries and view the results requires some setup steps:\n",
    "- It is recommended to use a virtual environment, like venv\n",
    "- In your terminal, change working directory to the root of this repo and run 'pip install -r requirements.txt' to install dependencies\n",
    "- Execute the IMPORT block below\n",
    "- Execute the 3 METHODS blocks below; this includes the start_engine method to create the connection to the Redshift db"
   ],
   "metadata": {
    "collapsed": false
   }
  },
  {
   "cell_type": "markdown",
   "source": [
    "## Import"
   ],
   "metadata": {
    "collapsed": false
   }
  },
  {
   "cell_type": "code",
   "execution_count": 180,
   "outputs": [],
   "source": [
    "import matplotlib.pyplot as plt\n",
    "import pandas as pd\n",
    "\n",
    "# SQLAlchemy is the ideal package for connecting to redshift RDMS as it is better supported by pandas; read, doesn't throw the 'unsupported' warning\n",
    "import sqlalchemy as sa\n",
    "from sqlalchemy.engine.url import URL\n",
    "from sqlalchemy import orm as sa_orm"
   ],
   "metadata": {
    "collapsed": false
   }
  },
  {
   "cell_type": "markdown",
   "source": [
    "## Methods"
   ],
   "metadata": {
    "collapsed": false
   }
  },
  {
   "cell_type": "code",
   "execution_count": 170,
   "outputs": [],
   "source": [
    "# build the sqlalchemy URL\n",
    "def start_engine():\n",
    "    url = URL.create(\n",
    "    drivername='redshift+redshift_connector', # indicate redshift_connector driver and dialect will be used\n",
    "    host='analyst-assignment.ckgrmpwkfuaa.us-west-2.redshift.amazonaws.com', # Amazon Redshift host\n",
    "    port=5439, # Amazon Redshift port\n",
    "    database='assignment', # Amazon Redshift database\n",
    "    username='awsuser', # Amazon Redshift username\n",
    "    password='tbloxsom1234A' # Amazon Redshift password\n",
    "    )\n",
    "    engine = sa.create_engine(url)\n",
    "    Session = sa_orm.sessionmaker()\n",
    "    Session.configure(bind=engine)\n",
    "    return engine"
   ],
   "metadata": {
    "collapsed": false
   }
  },
  {
   "cell_type": "code",
   "execution_count": 171,
   "outputs": [],
   "source": [
    "def print_query(file_path):\n",
    "    f = open(file_path, 'r')\n",
    "    file_contents = f.read()\n",
    "    print (file_contents)"
   ],
   "metadata": {
    "collapsed": false
   }
  },
  {
   "cell_type": "code",
   "execution_count": 172,
   "outputs": [],
   "source": [
    "#\n",
    "def execute_query(file_path):\n",
    "    engine = sa.create_engine(url)\n",
    "    Session = sa_orm.sessionmaker()\n",
    "    Session.configure(bind=engine)\n",
    "\n",
    "    # Read SQL code from .sql file\n",
    "    with open(file_path, \"r\") as file:\n",
    "        sql = file.read()\n",
    "\n",
    "    # Execute SQL code and load results into a pandas dataframe\n",
    "    df = pd.read_sql(sql, engine)\n",
    "\n",
    "    # Close connection\n",
    "    engine.dispose()\n",
    "    return df"
   ],
   "metadata": {
    "collapsed": false
   }
  },
  {
   "cell_type": "markdown",
   "source": [
    "# Questions"
   ],
   "metadata": {
    "collapsed": false
   }
  },
  {
   "cell_type": "markdown",
   "source": [
    "### *Which are the top 10 account ids by number of users?*"
   ],
   "metadata": {
    "collapsed": false
   }
  },
  {
   "cell_type": "code",
   "execution_count": 173,
   "outputs": [
    {
     "name": "stdout",
     "output_type": "stream",
     "text": [
      "SELECT\n",
      "    account_id,\n",
      "    COUNT(DISTINCT user_id) AS num_users\n",
      "FROM public.tasks_used_da\n",
      "GROUP BY account_id\n",
      "ORDER BY num_users DESC\n",
      "LIMIT 10;\n"
     ]
    }
   ],
   "source": [
    "print_query('queries/top10.sql')"
   ],
   "metadata": {
    "collapsed": false
   }
  },
  {
   "cell_type": "code",
   "execution_count": 193,
   "outputs": [
    {
     "data": {
      "text/plain": "   account_id  num_users\n0          -1       3614\n1     2101269        116\n2     2074697         44\n3     2147969         20\n4     2284259         18\n5     1215768         17\n6     1675574         15\n7     2187586         13\n8     2165388         11\n9     2258002          9",
      "text/html": "<div>\n<style scoped>\n    .dataframe tbody tr th:only-of-type {\n        vertical-align: middle;\n    }\n\n    .dataframe tbody tr th {\n        vertical-align: top;\n    }\n\n    .dataframe thead th {\n        text-align: right;\n    }\n</style>\n<table border=\"1\" class=\"dataframe\">\n  <thead>\n    <tr style=\"text-align: right;\">\n      <th></th>\n      <th>account_id</th>\n      <th>num_users</th>\n    </tr>\n  </thead>\n  <tbody>\n    <tr>\n      <th>0</th>\n      <td>-1</td>\n      <td>3614</td>\n    </tr>\n    <tr>\n      <th>1</th>\n      <td>2101269</td>\n      <td>116</td>\n    </tr>\n    <tr>\n      <th>2</th>\n      <td>2074697</td>\n      <td>44</td>\n    </tr>\n    <tr>\n      <th>3</th>\n      <td>2147969</td>\n      <td>20</td>\n    </tr>\n    <tr>\n      <th>4</th>\n      <td>2284259</td>\n      <td>18</td>\n    </tr>\n    <tr>\n      <th>5</th>\n      <td>1215768</td>\n      <td>17</td>\n    </tr>\n    <tr>\n      <th>6</th>\n      <td>1675574</td>\n      <td>15</td>\n    </tr>\n    <tr>\n      <th>7</th>\n      <td>2187586</td>\n      <td>13</td>\n    </tr>\n    <tr>\n      <th>8</th>\n      <td>2165388</td>\n      <td>11</td>\n    </tr>\n    <tr>\n      <th>9</th>\n      <td>2258002</td>\n      <td>9</td>\n    </tr>\n  </tbody>\n</table>\n</div>"
     },
     "execution_count": 193,
     "metadata": {},
     "output_type": "execute_result"
    }
   ],
   "source": [
    "execute_query('queries/top10.sql')"
   ],
   "metadata": {
    "collapsed": false
   }
  },
  {
   "cell_type": "markdown",
   "source": [
    "### *Create a summary table at the account level that signals when an account is new (boolean). An account is new for the first day we see it run a task(s).*"
   ],
   "metadata": {
    "collapsed": false
   }
  },
  {
   "cell_type": "code",
   "execution_count": null,
   "outputs": [],
   "source": [
    "print_query('queries/first_account.sql')"
   ],
   "metadata": {
    "collapsed": false
   }
  },
  {
   "cell_type": "code",
   "execution_count": null,
   "outputs": [],
   "source": [
    "create_table_new_accounts=execute_query('queries/new_accounts.sql')\n",
    "create_table_new_accounts"
   ],
   "metadata": {
    "collapsed": false
   }
  },
  {
   "cell_type": "markdown",
   "source": [
    "### *Add another column with the moving average of the tasks run in the last 7 days for each account.*"
   ],
   "metadata": {
    "collapsed": false
   }
  },
  {
   "cell_type": "code",
   "execution_count": 186,
   "outputs": [
    {
     "name": "stdout",
     "output_type": "stream",
     "text": [
      "SELECT\n",
      "    account_id,\n",
      "    date,\n",
      "    sum_tasks_used,\n",
      "    AVG(sum_tasks_used) OVER (PARTITION BY account_id ORDER BY date ROWS BETWEEN 6 PRECEDING AND CURRENT ROW) AS seven_day_running_average\n",
      "FROM\n",
      "    public.tasks_used_da;\n",
      "\n"
     ]
    }
   ],
   "source": [
    "print_query('queries/seven_day_avg.sql')"
   ],
   "metadata": {
    "collapsed": false
   }
  },
  {
   "cell_type": "code",
   "execution_count": 187,
   "outputs": [
    {
     "data": {
      "text/plain": "          account_id        date  sum_tasks_used  seven_day_running_average\n0                 -1  2017-01-01               8                          8\n1                 -1  2017-01-01               1                          4\n2                 -1  2017-01-01               1                          3\n3                 -1  2017-01-01               1                          2\n4                 -1  2017-01-01               2                          2\n...              ...         ...             ...                        ...\n10547582     2880897  2017-05-22               8                          7\n10547583     2880897  2017-05-26              10                          8\n10547584     2880897  2017-05-30              15                          6\n10547585     2880897  2017-05-31               2                          6\n10547586     2880897  2017-06-01               6                          6\n\n[10547587 rows x 4 columns]",
      "text/html": "<div>\n<style scoped>\n    .dataframe tbody tr th:only-of-type {\n        vertical-align: middle;\n    }\n\n    .dataframe tbody tr th {\n        vertical-align: top;\n    }\n\n    .dataframe thead th {\n        text-align: right;\n    }\n</style>\n<table border=\"1\" class=\"dataframe\">\n  <thead>\n    <tr style=\"text-align: right;\">\n      <th></th>\n      <th>account_id</th>\n      <th>date</th>\n      <th>sum_tasks_used</th>\n      <th>seven_day_running_average</th>\n    </tr>\n  </thead>\n  <tbody>\n    <tr>\n      <th>0</th>\n      <td>-1</td>\n      <td>2017-01-01</td>\n      <td>8</td>\n      <td>8</td>\n    </tr>\n    <tr>\n      <th>1</th>\n      <td>-1</td>\n      <td>2017-01-01</td>\n      <td>1</td>\n      <td>4</td>\n    </tr>\n    <tr>\n      <th>2</th>\n      <td>-1</td>\n      <td>2017-01-01</td>\n      <td>1</td>\n      <td>3</td>\n    </tr>\n    <tr>\n      <th>3</th>\n      <td>-1</td>\n      <td>2017-01-01</td>\n      <td>1</td>\n      <td>2</td>\n    </tr>\n    <tr>\n      <th>4</th>\n      <td>-1</td>\n      <td>2017-01-01</td>\n      <td>2</td>\n      <td>2</td>\n    </tr>\n    <tr>\n      <th>...</th>\n      <td>...</td>\n      <td>...</td>\n      <td>...</td>\n      <td>...</td>\n    </tr>\n    <tr>\n      <th>10547582</th>\n      <td>2880897</td>\n      <td>2017-05-22</td>\n      <td>8</td>\n      <td>7</td>\n    </tr>\n    <tr>\n      <th>10547583</th>\n      <td>2880897</td>\n      <td>2017-05-26</td>\n      <td>10</td>\n      <td>8</td>\n    </tr>\n    <tr>\n      <th>10547584</th>\n      <td>2880897</td>\n      <td>2017-05-30</td>\n      <td>15</td>\n      <td>6</td>\n    </tr>\n    <tr>\n      <th>10547585</th>\n      <td>2880897</td>\n      <td>2017-05-31</td>\n      <td>2</td>\n      <td>6</td>\n    </tr>\n    <tr>\n      <th>10547586</th>\n      <td>2880897</td>\n      <td>2017-06-01</td>\n      <td>6</td>\n      <td>6</td>\n    </tr>\n  </tbody>\n</table>\n<p>10547587 rows × 4 columns</p>\n</div>"
     },
     "execution_count": 187,
     "metadata": {},
     "output_type": "execute_result"
    }
   ],
   "source": [
    "seven_day_avg=execute_query('queries/seven_day_avg.sql')\n",
    "seven_day_avg"
   ],
   "metadata": {
    "collapsed": false
   }
  },
  {
   "cell_type": "markdown",
   "source": [],
   "metadata": {
    "collapsed": false
   }
  },
  {
   "cell_type": "markdown",
   "source": [
    "### *Create a summary table at the account level. Add a column with the % difference in the number of tasks to the previous day*"
   ],
   "metadata": {
    "collapsed": false
   }
  },
  {
   "cell_type": "code",
   "execution_count": 188,
   "outputs": [
    {
     "name": "stdout",
     "output_type": "stream",
     "text": [
      "WITH cte AS (\n",
      "    SELECT\n",
      "        date,\n",
      "        account_id,\n",
      "        sum_tasks_used,\n",
      "        SUM(sum_tasks_used) OVER (PARTITION BY account_id ORDER BY date ROWS BETWEEN 6 PRECEDING AND CURRENT ROW) AS seven_day_running_avg,\n",
      "        LAG(sum_tasks_used) OVER (PARTITION BY account_id ORDER BY date) AS prev_sum_tasks_used\n",
      "    FROM public.tasks_used_da\n",
      "),\n",
      "     cte2 AS (\n",
      "         SELECT\n",
      "             date,\n",
      "             account_id,\n",
      "             sum_tasks_used,\n",
      "             seven_day_running_avg,\n",
      "             CASE\n",
      "                 WHEN prev_sum_tasks_used = 0 THEN 0\n",
      "                 ELSE (sum_tasks_used - prev_sum_tasks_used) / prev_sum_tasks_used\n",
      "                 END AS percent_change\n",
      "         FROM cte\n",
      "     )\n",
      "SELECT\n",
      "    date,\n",
      "    account_id,\n",
      "    sum_tasks_used,\n",
      "    seven_day_running_avg,\n",
      "    percent_change\n",
      "FROM cte2\n",
      "ORDER BY date, account_id;\n"
     ]
    }
   ],
   "source": [
    "print_query('queries/seven_day_avg_and_daily_pct_chg.sql')"
   ],
   "metadata": {
    "collapsed": false
   }
  },
  {
   "cell_type": "code",
   "execution_count": 189,
   "outputs": [
    {
     "data": {
      "text/plain": "                date  account_id  sum_tasks_used  seven_day_running_avg  \\\n0         2017-01-01          -1               8                      8   \n1         2017-01-01          -1               1                      9   \n2         2017-01-01          -1               1                     10   \n3         2017-01-01          -1               1                     11   \n4         2017-01-01          -1               2                     13   \n...              ...         ...             ...                    ...   \n10547582  2017-06-01     2880897               6                     45   \n10547583  2017-06-01     3016718              38                    543   \n10547584  2017-06-01     3016718             168                    661   \n10547585  2017-06-01     3016718              33                    593   \n10547586  2017-06-01     3096197               3                     22   \n\n          percent_change  \n0                    7.0  \n1                    0.0  \n2                    0.0  \n3                    0.0  \n4                    1.0  \n...                  ...  \n10547582             2.0  \n10547583             0.0  \n10547584             4.0  \n10547585             1.0  \n10547586             0.0  \n\n[10547587 rows x 5 columns]",
      "text/html": "<div>\n<style scoped>\n    .dataframe tbody tr th:only-of-type {\n        vertical-align: middle;\n    }\n\n    .dataframe tbody tr th {\n        vertical-align: top;\n    }\n\n    .dataframe thead th {\n        text-align: right;\n    }\n</style>\n<table border=\"1\" class=\"dataframe\">\n  <thead>\n    <tr style=\"text-align: right;\">\n      <th></th>\n      <th>date</th>\n      <th>account_id</th>\n      <th>sum_tasks_used</th>\n      <th>seven_day_running_avg</th>\n      <th>percent_change</th>\n    </tr>\n  </thead>\n  <tbody>\n    <tr>\n      <th>0</th>\n      <td>2017-01-01</td>\n      <td>-1</td>\n      <td>8</td>\n      <td>8</td>\n      <td>7.0</td>\n    </tr>\n    <tr>\n      <th>1</th>\n      <td>2017-01-01</td>\n      <td>-1</td>\n      <td>1</td>\n      <td>9</td>\n      <td>0.0</td>\n    </tr>\n    <tr>\n      <th>2</th>\n      <td>2017-01-01</td>\n      <td>-1</td>\n      <td>1</td>\n      <td>10</td>\n      <td>0.0</td>\n    </tr>\n    <tr>\n      <th>3</th>\n      <td>2017-01-01</td>\n      <td>-1</td>\n      <td>1</td>\n      <td>11</td>\n      <td>0.0</td>\n    </tr>\n    <tr>\n      <th>4</th>\n      <td>2017-01-01</td>\n      <td>-1</td>\n      <td>2</td>\n      <td>13</td>\n      <td>1.0</td>\n    </tr>\n    <tr>\n      <th>...</th>\n      <td>...</td>\n      <td>...</td>\n      <td>...</td>\n      <td>...</td>\n      <td>...</td>\n    </tr>\n    <tr>\n      <th>10547582</th>\n      <td>2017-06-01</td>\n      <td>2880897</td>\n      <td>6</td>\n      <td>45</td>\n      <td>2.0</td>\n    </tr>\n    <tr>\n      <th>10547583</th>\n      <td>2017-06-01</td>\n      <td>3016718</td>\n      <td>38</td>\n      <td>543</td>\n      <td>0.0</td>\n    </tr>\n    <tr>\n      <th>10547584</th>\n      <td>2017-06-01</td>\n      <td>3016718</td>\n      <td>168</td>\n      <td>661</td>\n      <td>4.0</td>\n    </tr>\n    <tr>\n      <th>10547585</th>\n      <td>2017-06-01</td>\n      <td>3016718</td>\n      <td>33</td>\n      <td>593</td>\n      <td>1.0</td>\n    </tr>\n    <tr>\n      <th>10547586</th>\n      <td>2017-06-01</td>\n      <td>3096197</td>\n      <td>3</td>\n      <td>22</td>\n      <td>0.0</td>\n    </tr>\n  </tbody>\n</table>\n<p>10547587 rows × 5 columns</p>\n</div>"
     },
     "execution_count": 189,
     "metadata": {},
     "output_type": "execute_result"
    }
   ],
   "source": [
    "start_engine()\n",
    "pct_change=execute_query('queries/seven_day_avg_and_daily_pct_chg.sql')\n",
    "pct_change"
   ],
   "metadata": {
    "collapsed": false
   }
  },
  {
   "cell_type": "markdown",
   "source": [
    "### *A lost account is an account with no tasks run on a given month. How many accounts did we lose (had no executed tasks) in February 2017?*"
   ],
   "metadata": {
    "collapsed": false
   }
  },
  {
   "cell_type": "code",
   "execution_count": 190,
   "outputs": [
    {
     "name": "stdout",
     "output_type": "stream",
     "text": [
      "WITH cte AS (\n",
      "    SELECT\n",
      "        date,\n",
      "        account_id,\n",
      "        sum_tasks_used\n",
      "    FROM public.tasks_used_da\n",
      "    WHERE date BETWEEN '2017-02-01' AND '2017-02-28'\n",
      "),\n",
      "     cte2 AS (\n",
      "         SELECT DISTINCT account_id\n",
      "         FROM cte\n",
      "     )\n",
      "SELECT\n",
      "    COUNT(*) AS total_lost_accounts\n",
      "FROM public.tasks_used_da\n",
      "WHERE date BETWEEN '2017-01-01' AND '2017-01-31'\n",
      "  AND account_id NOT IN (SELECT account_id FROM cte2);\n"
     ]
    }
   ],
   "source": [
    "print_query('queries/lost_accts.sql')"
   ],
   "metadata": {
    "collapsed": false
   }
  },
  {
   "cell_type": "code",
   "execution_count": 191,
   "outputs": [
    {
     "data": {
      "text/plain": "   total_lost_accounts\n0               134966",
      "text/html": "<div>\n<style scoped>\n    .dataframe tbody tr th:only-of-type {\n        vertical-align: middle;\n    }\n\n    .dataframe tbody tr th {\n        vertical-align: top;\n    }\n\n    .dataframe thead th {\n        text-align: right;\n    }\n</style>\n<table border=\"1\" class=\"dataframe\">\n  <thead>\n    <tr style=\"text-align: right;\">\n      <th></th>\n      <th>total_lost_accounts</th>\n    </tr>\n  </thead>\n  <tbody>\n    <tr>\n      <th>0</th>\n      <td>134966</td>\n    </tr>\n  </tbody>\n</table>\n</div>"
     },
     "execution_count": 191,
     "metadata": {},
     "output_type": "execute_result"
    }
   ],
   "source": [
    "start_engine()\n",
    "lost_accounts=execute_query('queries/lost_accts.sql')\n",
    "lost_accounts"
   ],
   "metadata": {
    "collapsed": false
   }
  },
  {
   "cell_type": "markdown",
   "source": [
    "### *(OPTIONAL) Create a visualization that represents the growth of new accounts in a way you would communicate to a peer or business stakeholder*"
   ],
   "metadata": {
    "collapsed": false
   }
  },
  {
   "cell_type": "code",
   "execution_count": 192,
   "outputs": [
    {
     "data": {
      "text/plain": "<Figure size 640x480 with 1 Axes>",
      "image/png": "[encoded data removed]"
     },
     "metadata": {},
     "output_type": "display_data"
    }
   ],
   "source": [
    "start_engine()\n",
    "\n",
    "# Fetch data for new accounts\n",
    "\n",
    "\n",
    "query = \"SELECT date, count(account_id) as new_accounts FROM first_account_tasks WHERE is_new = 't' GROUP BY date ORDER BY date\"\n",
    "new_accounts = pd.read_sql(query, engine)\n",
    "\n",
    "# Plot line chart of new accounts growth\n",
    "plt.plot(new_accounts['date'], new_accounts['new_accounts'], label='New Accounts')\n",
    "plt.xlabel('Date')\n",
    "plt.ylabel('Number of New Accounts')\n",
    "plt.title('New Accounts Over Time')\n",
    "plt.legend()\n",
    "plt.show()\n"
   ],
   "metadata": {
    "collapsed": false
   }
  },
  {
   "cell_type": "code",
   "execution_count": null,
   "outputs": [],
   "source": [],
   "metadata": {
    "collapsed": false
   }
  }
 ],
 "metadata": {
  "kernelspec": {
   "display_name": "Python 3",
   "language": "python",
   "name": "python3"
  },
  "language_info": {
   "codemirror_mode": {
    "name": "ipython",
    "version": 3
   },
   "file_extension": ".py",
   "mimetype": "text/x-python",
   "name": "python",
   "nbconvert_exporter": "python",
   "pygments_lexer": "ipython3",
   "version": "3.9.6"
  },
  "orig_nbformat": 4,
  "vscode": {
   "interpreter": {
    "hash": "31f2aee4e71d21fbe5cf8b01ff0e069b9275f58929596ceb00d14d90e3e16cd6"
   }
  }
 },
 "nbformat": 4,
 "nbformat_minor": 2
}
